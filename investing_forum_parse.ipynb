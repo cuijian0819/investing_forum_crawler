{
 "cells": [
  {
   "cell_type": "code",
   "execution_count": 1,
   "metadata": {},
   "outputs": [],
   "source": [
    "from tqdm import tqdm\n",
    "import os\n",
    "from bs4 import BeautifulSoup\n",
    "from lxml import etree\n",
    "from pdb import set_trace\n",
    "import pickle\n",
    "from multiprocessing import Pool\n",
    "from itertools import repeat\n",
    "import itertools\n",
    "import numpy as np\n",
    "import pandas as pd\n"
   ]
  },
  {
   "cell_type": "code",
   "execution_count": 2,
   "metadata": {},
   "outputs": [],
   "source": [
    "# ignore this\n",
    "# This is test\n",
    "\n",
    "html_list = os.listdir('data/raw')\n",
    "html = 'investing_btc_1365.html'\n",
    "soup = BeautifulSoup(open('data/raw/{}'.format(html), encoding=\"ISO-8859-1\"), 'html.parser')\n",
    "dom = etree.HTML(str(soup))\n",
    "msg_body_list = dom.xpath('//div[@class=\"comment js-comment\"]')\n",
    "tmp_dict = {}\n",
    "    \n",
    "for msg_body in msg_body_list:\n",
    "    \n",
    "        msg_text = msg_body.xpath('.//div[@class=\"mainComment js-content\"]/div//span[@class=\"js-text\"]')\n",
    "        msg_text = msg_text[0].xpath('./text() | ./a/text()')\n",
    "\n",
    "        main_msg_id = msg_body.xpath('./@data-comment-id')\n",
    "        main_msg_id = main_msg_id[0].split('-')[-1]\n",
    "\n",
    "        main_poster = msg_body.xpath('.//div[@class=\"mainComment js-content\"]//span[@class=\"commentUsername\"]/a/text()')\n",
    "        if len(main_poster) == 0: continue;\n",
    "\n",
    "        main_poster_url = msg_body.xpath('.//div[@class=\"mainComment js-content\"]//span[@class=\"commentUsername\"]/a/@href')\n",
    "        main_poster_id = main_poster_url[0].split('/')[-1]\n",
    "\n",
    "        main_timestamp = msg_body.xpath('.//div[@class=\"mainComment js-content\"]//span[@class=\"js-date\"]/@comment-date-formatted')[0]\n",
    "\n",
    "        tmp_dict[main_msg_id] = {'msg_id': main_msg_id, 'poster': main_poster, 'poster_url': main_poster_url,\n",
    "                                 'poster_id': main_poster_id, 'timestamp': main_timestamp, 'msg': msg_text[0]}\n",
    "\n",
    "        # reply \n",
    "        reply_texts = msg_body.xpath('.//div[@class=\"commentReply js-comment js-comment-reply\"]//span[@class=\"js-text\"]')\n",
    "        reply_texts = [reply_text.xpath('./text() | ./a/text()') for reply_text in reply_texts]\n",
    "        if len(reply_texts) == 0: continue;\n",
    "\n",
    "        reply_msg_ids = msg_body.xpath('.//div[@class=\"commentReply js-comment js-comment-reply\"]')\n",
    "        reply_msg_ids = [reply_msg_id.xpath('.//div[@class=\"js-text-wrapper commentText\"]/@id | .//div[@class=\"js-text-wrapper commentText withImage\"]/@id')[0] for reply_msg_id in reply_msg_ids]\n",
    "\n",
    "        reply_posters = msg_body.xpath('.//div[@class=\"commentReply js-comment js-comment-reply\"]//span[@class=\"commentUsername\"]/a/text()')\n",
    "        reply_poster_urls = msg_body.xpath('.//div[@class=\"commentReply js-comment js-comment-reply\"]//span[@class=\"commentUsername\"]/a/@href') \n",
    "\n",
    "        reply_timestamps = msg_body.xpath('.//div[@class=\"commentReply js-comment js-comment-reply\"]//span[@class=\"js-date\"]/@comment-date-formatted')\n",
    "\n",
    "        if (len(reply_texts) != len(reply_msg_ids)): print(reply_texts, reply_msg_ids)\n",
    "\n",
    "        for i, reply_text in enumerate(reply_texts):\n",
    "            reply_msg_id = reply_msg_ids[i].split('-')[-1]\n",
    "            reply_poster_id = reply_poster_urls[i].split('/')[-1]\n",
    "            reply_poster = reply_posters[i]\n",
    "            reply_timestamp = reply_timestamps[i]\n",
    "            reply_poster_url = reply_poster_urls[i]\n",
    "            tmp_dict[reply_msg_id] = {'msg_id': reply_msg_id, 'poster': reply_poster, 'poster_url': reply_poster_url, 'poster_id': reply_poster_id, \n",
    "                                      'reply_id': main_msg_id, 'timestamp': reply_timestamp, 'msg': reply_text}\n",
    "\n",
    "# print(tmp_dict['6961311'])"
   ]
  },
  {
   "cell_type": "code",
   "execution_count": 3,
   "metadata": {},
   "outputs": [],
   "source": [
    "def make_post_dict(html): \n",
    "\n",
    "    tmp_dict = {}\n",
    "    \n",
    "    if 'html' not in html: return;\n",
    "    \n",
    "    soup = BeautifulSoup(open('data/raw/{}'.format(html), encoding=\"ISO-8859-1\"), 'html.parser')\n",
    "    dom = etree.HTML(str(soup))\n",
    "    msg_body_list = dom.xpath('//div[@class=\"comment js-comment\"]')\n",
    "    for msg_body in msg_body_list:\n",
    "\n",
    "        msg_text = msg_body.xpath('.//div[@class=\"mainComment js-content\"]/div//span[@class=\"js-text\"]')\n",
    "        msg_text = msg_text[0].xpath('./text() | ./a/text()')\n",
    "\n",
    "        main_msg_id = msg_body.xpath('./@data-comment-id')\n",
    "        main_msg_id = main_msg_id[0].split('-')[-1]\n",
    "\n",
    "        main_poster = msg_body.xpath('.//div[@class=\"mainComment js-content\"]//span[@class=\"commentUsername\"]/a/text()')\n",
    "        if len(main_poster) == 0: continue;\n",
    "\n",
    "        main_poster_url = msg_body.xpath('.//div[@class=\"mainComment js-content\"]//span[@class=\"commentUsername\"]/a/@href')\n",
    "        main_poster_id = main_poster_url[0].split('/')[-1]\n",
    "\n",
    "        main_timestamp = msg_body.xpath('.//div[@class=\"mainComment js-content\"]//span[@class=\"js-date\"]/@comment-date-formatted')[0]\n",
    "\n",
    "        tmp_dict[main_msg_id] = {'msg_id': main_msg_id, 'poster': main_poster[0], 'poster_url': main_poster_url[0],\n",
    "                                 'poster_id': main_poster_id, 'timestamp': main_timestamp, 'msg': ' '.join(msg_text)}\n",
    "\n",
    "        # reply \n",
    "        reply_texts = msg_body.xpath('.//div[@class=\"commentReply js-comment js-comment-reply\"]//span[@class=\"js-text\"]')\n",
    "        reply_texts = [reply_text.xpath('./text() | ./a/text()') for reply_text in reply_texts]\n",
    "        if len(reply_texts) == 0: continue;\n",
    "\n",
    "        reply_msg_ids = msg_body.xpath('.//div[@class=\"commentReply js-comment js-comment-reply\"]')\n",
    "        reply_msg_ids = [reply_msg_id.xpath('.//div[@class=\"js-text-wrapper commentText\"]/@id | .//div[@class=\"js-text-wrapper commentText withImage\"]/@id')[0] for reply_msg_id in reply_msg_ids]\n",
    "\n",
    "        reply_posters = msg_body.xpath('.//div[@class=\"commentReply js-comment js-comment-reply\"]//span[@class=\"commentUsername\"]/a/text()')\n",
    "        reply_poster_urls = msg_body.xpath('.//div[@class=\"commentReply js-comment js-comment-reply\"]//span[@class=\"commentUsername\"]/a/@href') \n",
    "\n",
    "        reply_timestamps = msg_body.xpath('.//div[@class=\"commentReply js-comment js-comment-reply\"]//span[@class=\"js-date\"]/@comment-date-formatted')\n",
    "\n",
    "        if (len(reply_texts) != len(reply_msg_ids)): print(reply_texts, reply_msg_ids)\n",
    "\n",
    "        for i, reply_text in enumerate(reply_texts):\n",
    "            reply_msg_id = reply_msg_ids[i].split('-')[-1]\n",
    "            reply_poster_id = reply_poster_urls[i].split('/')[-1]\n",
    "            reply_poster = reply_posters[i]\n",
    "            reply_timestamp = reply_timestamps[i]\n",
    "            reply_poster_url = reply_poster_urls[i]\n",
    "            tmp_dict[reply_msg_id] = {'msg_id': reply_msg_id, 'poster': reply_poster, 'poster_url': reply_poster_url, 'poster_id': reply_poster_id, \n",
    "                                      'reply_id': main_msg_id, 'timestamp': reply_timestamp, 'msg': ' '.join(reply_text)}\n",
    "\n",
    "    return tmp_dict\n"
   ]
  },
  {
   "cell_type": "code",
   "execution_count": 4,
   "metadata": {},
   "outputs": [],
   "source": [
    "# post_dict: \n",
    "# key:  msg_id\n",
    "# value: dict{msg_id:'', poster:'', poster_url: '', poster_id:'', reply_id:'',  msg:''}\n",
    "posts_dict = {}\n",
    "\n",
    "html_list = os.listdir('data/raw')\n",
    "\n",
    "pool = Pool(processes=32)\n",
    "\n",
    "# with tqdm(total=len(html_list)) as pbar:\n",
    "#     for _ in tqdm(pool.imap_unordered(make_post_dict, html_list)):\n",
    "#         pbar.update()\n",
    "dict_list = pool.map(make_post_dict, html_list)\n",
    "pool.close() \n",
    "pool.join()"
   ]
  },
  {
   "cell_type": "code",
   "execution_count": 5,
   "metadata": {},
   "outputs": [
    {
     "name": "stderr",
     "output_type": "stream",
     "text": [
      "100%|██████████| 6962/6962 [00:00<00:00, 49132.21it/s]\n"
     ]
    }
   ],
   "source": [
    "for tmp_dict in tqdm(dict_list):\n",
    "    if tmp_dict == None: continue;\n",
    "    for k, v in tmp_dict.items():\n",
    "        posts_dict[k] = v"
   ]
  },
  {
   "cell_type": "code",
   "execution_count": 6,
   "metadata": {},
   "outputs": [
    {
     "data": {
      "text/plain": [
       "403654"
      ]
     },
     "execution_count": 6,
     "metadata": {},
     "output_type": "execute_result"
    }
   ],
   "source": [
    "len(posts_dict)"
   ]
  },
  {
   "cell_type": "code",
   "execution_count": 7,
   "metadata": {},
   "outputs": [],
   "source": [
    "if not os.path.exists('data/parsed/'):\n",
    "    os.mkdir('data/parsed')\n",
    "pickle.dump(posts_dict, open(\"data/parsed/investing_posts_dict\", \"wb\"))"
   ]
  },
  {
   "cell_type": "code",
   "execution_count": 8,
   "metadata": {},
   "outputs": [],
   "source": [
    "with open(\"data/parsed/investing_posts_dict\", \"rb\") as f:\n",
    "    posts_dict = pickle.load(f)\n"
   ]
  },
  {
   "cell_type": "code",
   "execution_count": 9,
   "metadata": {},
   "outputs": [
    {
     "data": {
      "text/plain": [
       "403654"
      ]
     },
     "execution_count": 9,
     "metadata": {},
     "output_type": "execute_result"
    }
   ],
   "source": [
    "len(posts_dict)"
   ]
  },
  {
   "cell_type": "code",
   "execution_count": 10,
   "metadata": {},
   "outputs": [
    {
     "data": {
      "text/plain": [
       "{'msg_id': '31211866',\n",
       " 'poster': 'Uguysarefool',\n",
       " 'poster_url': '/members/contributors/204832924',\n",
       " 'poster_id': '204832924',\n",
       " 'reply_id': '31211821',\n",
       " 'timestamp': '',\n",
       " 'msg': 'Marthinus De Beer  \\xa0just picking a random comment by u\\nMay 16, 2021 4:44PM ET\\nCryptoð\\x9fª\\x99 â\\x9a°ð\\x9fª¦\\nPlease, u are just a ð\\x9f¤¡'}"
      ]
     },
     "execution_count": 10,
     "metadata": {},
     "output_type": "execute_result"
    }
   ],
   "source": [
    "posts_dict['31211866']"
   ]
  },
  {
   "cell_type": "code",
   "execution_count": 11,
   "metadata": {},
   "outputs": [
    {
     "data": {
      "text/plain": [
       "122"
      ]
     },
     "execution_count": 11,
     "metadata": {},
     "output_type": "execute_result"
    }
   ],
   "source": [
    "len(posts_dict['31211866']['msg'])"
   ]
  },
  {
   "cell_type": "code",
   "execution_count": 12,
   "metadata": {},
   "outputs": [
    {
     "data": {
      "text/html": [
       "<div>\n",
       "<style scoped>\n",
       "    .dataframe tbody tr th:only-of-type {\n",
       "        vertical-align: middle;\n",
       "    }\n",
       "\n",
       "    .dataframe tbody tr th {\n",
       "        vertical-align: top;\n",
       "    }\n",
       "\n",
       "    .dataframe thead th {\n",
       "        text-align: right;\n",
       "    }\n",
       "</style>\n",
       "<table border=\"1\" class=\"dataframe\">\n",
       "  <thead>\n",
       "    <tr style=\"text-align: right;\">\n",
       "      <th></th>\n",
       "      <th>msg_id</th>\n",
       "      <th>poster</th>\n",
       "      <th>poster_url</th>\n",
       "      <th>poster_id</th>\n",
       "      <th>timestamp</th>\n",
       "      <th>msg</th>\n",
       "      <th>reply_id</th>\n",
       "    </tr>\n",
       "  </thead>\n",
       "  <tbody>\n",
       "    <tr>\n",
       "      <th>0</th>\n",
       "      <td>7329237</td>\n",
       "      <td>Bitcoin Bull</td>\n",
       "      <td>/members/contributors/202158045</td>\n",
       "      <td>202158045</td>\n",
       "      <td>Dec 10, 2017 5:39PM ET</td>\n",
       "      <td>Fear of missing out FOMO factor is big! Buying...</td>\n",
       "      <td>NaN</td>\n",
       "    </tr>\n",
       "    <tr>\n",
       "      <th>1</th>\n",
       "      <td>7329232</td>\n",
       "      <td>Gray Box</td>\n",
       "      <td>/members/contributors/200518803</td>\n",
       "      <td>200518803</td>\n",
       "      <td>Dec 10, 2017 5:38PM ET</td>\n",
       "      <td>For the longs on the 1hr buy signal at 13667 o...</td>\n",
       "      <td>NaN</td>\n",
       "    </tr>\n",
       "    <tr>\n",
       "      <th>2</th>\n",
       "      <td>7329240</td>\n",
       "      <td>Gray Box</td>\n",
       "      <td>/members/contributors/200518803</td>\n",
       "      <td>200518803</td>\n",
       "      <td>Dec 10, 2017 5:38PM ET</td>\n",
       "      <td>This is a look back sort of thing not trade ex...</td>\n",
       "      <td>7329232</td>\n",
       "    </tr>\n",
       "    <tr>\n",
       "      <th>3</th>\n",
       "      <td>7329247</td>\n",
       "      <td>Brandon Becerra</td>\n",
       "      <td>/members/contributors/201744932</td>\n",
       "      <td>201744932</td>\n",
       "      <td>Dec 10, 2017 5:38PM ET</td>\n",
       "      <td>Thx brother</td>\n",
       "      <td>7329232</td>\n",
       "    </tr>\n",
       "    <tr>\n",
       "      <th>4</th>\n",
       "      <td>7329265</td>\n",
       "      <td>Richard Mcglocklin</td>\n",
       "      <td>/members/contributors/201671886</td>\n",
       "      <td>201671886</td>\n",
       "      <td>Dec 10, 2017 5:38PM ET</td>\n",
       "      <td>Thanks Gray</td>\n",
       "      <td>7329232</td>\n",
       "    </tr>\n",
       "    <tr>\n",
       "      <th>...</th>\n",
       "      <td>...</td>\n",
       "      <td>...</td>\n",
       "      <td>...</td>\n",
       "      <td>...</td>\n",
       "      <td>...</td>\n",
       "      <td>...</td>\n",
       "      <td>...</td>\n",
       "    </tr>\n",
       "    <tr>\n",
       "      <th>403649</th>\n",
       "      <td>9334723</td>\n",
       "      <td>Jared Foxman</td>\n",
       "      <td>/members/contributors/203227362</td>\n",
       "      <td>203227362</td>\n",
       "      <td>Jun 29, 2018 6:31PM ET</td>\n",
       "      <td>By bears</td>\n",
       "      <td>NaN</td>\n",
       "    </tr>\n",
       "    <tr>\n",
       "      <th>403650</th>\n",
       "      <td>9334719</td>\n",
       "      <td>Crypto Short</td>\n",
       "      <td>/members/contributors/202884766</td>\n",
       "      <td>202884766</td>\n",
       "      <td>Jun 29, 2018 6:29PM ET</td>\n",
       "      <td>Enjoy the bully weekend and trade safe instead!</td>\n",
       "      <td>NaN</td>\n",
       "    </tr>\n",
       "    <tr>\n",
       "      <th>403651</th>\n",
       "      <td>9334685</td>\n",
       "      <td>David Goldberg</td>\n",
       "      <td>/members/contributors/203106630</td>\n",
       "      <td>203106630</td>\n",
       "      <td>Jun 29, 2018 6:13PM ET</td>\n",
       "      <td>Chart is nonsense. Good luck.  https://invst.l...</td>\n",
       "      <td>NaN</td>\n",
       "    </tr>\n",
       "    <tr>\n",
       "      <th>403652</th>\n",
       "      <td>9334682</td>\n",
       "      <td>Crypto Short</td>\n",
       "      <td>/members/contributors/202884766</td>\n",
       "      <td>202884766</td>\n",
       "      <td>Jun 29, 2018 6:12PM ET</td>\n",
       "      <td>BCH is your first pump!</td>\n",
       "      <td>NaN</td>\n",
       "    </tr>\n",
       "    <tr>\n",
       "      <th>403653</th>\n",
       "      <td>9334677</td>\n",
       "      <td>David Goldberg</td>\n",
       "      <td>/members/contributors/203106630</td>\n",
       "      <td>203106630</td>\n",
       "      <td>Jun 29, 2018 6:09PM ET</td>\n",
       "      <td>Boring day. As of now, we have some buy signal...</td>\n",
       "      <td>NaN</td>\n",
       "    </tr>\n",
       "  </tbody>\n",
       "</table>\n",
       "<p>403654 rows × 7 columns</p>\n",
       "</div>"
      ],
      "text/plain": [
       "         msg_id              poster                       poster_url  \\\n",
       "0       7329237        Bitcoin Bull  /members/contributors/202158045   \n",
       "1       7329232            Gray Box  /members/contributors/200518803   \n",
       "2       7329240            Gray Box  /members/contributors/200518803   \n",
       "3       7329247     Brandon Becerra  /members/contributors/201744932   \n",
       "4       7329265  Richard Mcglocklin  /members/contributors/201671886   \n",
       "...         ...                 ...                              ...   \n",
       "403649  9334723        Jared Foxman  /members/contributors/203227362   \n",
       "403650  9334719        Crypto Short  /members/contributors/202884766   \n",
       "403651  9334685      David Goldberg  /members/contributors/203106630   \n",
       "403652  9334682        Crypto Short  /members/contributors/202884766   \n",
       "403653  9334677      David Goldberg  /members/contributors/203106630   \n",
       "\n",
       "        poster_id               timestamp  \\\n",
       "0       202158045  Dec 10, 2017 5:39PM ET   \n",
       "1       200518803  Dec 10, 2017 5:38PM ET   \n",
       "2       200518803  Dec 10, 2017 5:38PM ET   \n",
       "3       201744932  Dec 10, 2017 5:38PM ET   \n",
       "4       201671886  Dec 10, 2017 5:38PM ET   \n",
       "...           ...                     ...   \n",
       "403649  203227362  Jun 29, 2018 6:31PM ET   \n",
       "403650  202884766  Jun 29, 2018 6:29PM ET   \n",
       "403651  203106630  Jun 29, 2018 6:13PM ET   \n",
       "403652  202884766  Jun 29, 2018 6:12PM ET   \n",
       "403653  203106630  Jun 29, 2018 6:09PM ET   \n",
       "\n",
       "                                                      msg reply_id  \n",
       "0       Fear of missing out FOMO factor is big! Buying...      NaN  \n",
       "1       For the longs on the 1hr buy signal at 13667 o...      NaN  \n",
       "2       This is a look back sort of thing not trade ex...  7329232  \n",
       "3                                            Thx brother   7329232  \n",
       "4                                            Thanks Gray   7329232  \n",
       "...                                                   ...      ...  \n",
       "403649                                           By bears      NaN  \n",
       "403650    Enjoy the bully weekend and trade safe instead!      NaN  \n",
       "403651  Chart is nonsense. Good luck.  https://invst.l...      NaN  \n",
       "403652                            BCH is your first pump!      NaN  \n",
       "403653  Boring day. As of now, we have some buy signal...      NaN  \n",
       "\n",
       "[403654 rows x 7 columns]"
      ]
     },
     "execution_count": 12,
     "metadata": {},
     "output_type": "execute_result"
    }
   ],
   "source": [
    "df = pd.DataFrame(posts_dict.values())\n",
    "df"
   ]
  },
  {
   "cell_type": "code",
   "execution_count": null,
   "metadata": {},
   "outputs": [],
   "source": []
  }
 ],
 "metadata": {
  "kernelspec": {
   "display_name": "Conda Jian",
   "language": "python",
   "name": "conda-jian"
  },
  "language_info": {
   "codemirror_mode": {
    "name": "ipython",
    "version": 3
   },
   "file_extension": ".py",
   "mimetype": "text/x-python",
   "name": "python",
   "nbconvert_exporter": "python",
   "pygments_lexer": "ipython3",
   "version": "3.8.3"
  }
 },
 "nbformat": 4,
 "nbformat_minor": 4
}
